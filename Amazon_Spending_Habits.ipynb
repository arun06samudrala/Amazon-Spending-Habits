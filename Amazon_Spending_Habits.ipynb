{
 "cells": [
  {
   "cell_type": "code",
   "execution_count": 24,
   "metadata": {},
   "outputs": [],
   "source": [
    "import pandas as pd\n",
    "%matplotlib inline"
   ]
  },
  {
   "cell_type": "code",
   "execution_count": 25,
   "metadata": {},
   "outputs": [],
   "source": [
    "amazon = pd.read_csv('/Users/arun/Downloads/Amazon_Spending.csv')"
   ]
  },
  {
   "cell_type": "code",
   "execution_count": 26,
   "metadata": {},
   "outputs": [
    {
     "data": {
      "text/html": [
       "<div>\n",
       "<style scoped>\n",
       "    .dataframe tbody tr th:only-of-type {\n",
       "        vertical-align: middle;\n",
       "    }\n",
       "\n",
       "    .dataframe tbody tr th {\n",
       "        vertical-align: top;\n",
       "    }\n",
       "\n",
       "    .dataframe thead th {\n",
       "        text-align: right;\n",
       "    }\n",
       "</style>\n",
       "<table border=\"1\" class=\"dataframe\">\n",
       "  <thead>\n",
       "    <tr style=\"text-align: right;\">\n",
       "      <th></th>\n",
       "      <th>Order Date</th>\n",
       "      <th>Order ID</th>\n",
       "      <th>Payment Instrument Type</th>\n",
       "      <th>Website</th>\n",
       "      <th>Purchase Order Number</th>\n",
       "      <th>Ordering Customer Email</th>\n",
       "      <th>Shipment Date</th>\n",
       "      <th>Shipping Address Name</th>\n",
       "      <th>Shipping Address Street 1</th>\n",
       "      <th>Shipping Address Street 2</th>\n",
       "      <th>...</th>\n",
       "      <th>Order Status</th>\n",
       "      <th>Carrier Name &amp; Tracking Number</th>\n",
       "      <th>Subtotal</th>\n",
       "      <th>Shipping Charge</th>\n",
       "      <th>Tax Before Promotions</th>\n",
       "      <th>Total Promotions</th>\n",
       "      <th>Tax Charged</th>\n",
       "      <th>Total Charged</th>\n",
       "      <th>Buyer Name</th>\n",
       "      <th>Group Name</th>\n",
       "    </tr>\n",
       "  </thead>\n",
       "  <tbody>\n",
       "    <tr>\n",
       "      <td>0</td>\n",
       "      <td>10/20/18</td>\n",
       "      <td>114-1507594-8884245</td>\n",
       "      <td>MasterCard - 8971</td>\n",
       "      <td>Amazon.com</td>\n",
       "      <td>NaN</td>\n",
       "      <td>arun06samudrala@gmail.com</td>\n",
       "      <td>10/21/18</td>\n",
       "      <td>Arun Samudrala</td>\n",
       "      <td>231 PARK DR APT 27</td>\n",
       "      <td>NaN</td>\n",
       "      <td>...</td>\n",
       "      <td>Shipped</td>\n",
       "      <td>AMZN_US(TBA362516488000)</td>\n",
       "      <td>$159.95</td>\n",
       "      <td>$7.64</td>\n",
       "      <td>$0.00</td>\n",
       "      <td>$7.64</td>\n",
       "      <td>$0.00</td>\n",
       "      <td>$159.95</td>\n",
       "      <td>Arun</td>\n",
       "      <td>NaN</td>\n",
       "    </tr>\n",
       "    <tr>\n",
       "      <td>1</td>\n",
       "      <td>10/20/18</td>\n",
       "      <td>114-6348616-9767454</td>\n",
       "      <td>MasterCard - 8971</td>\n",
       "      <td>Amazon.com</td>\n",
       "      <td>NaN</td>\n",
       "      <td>arun06samudrala@gmail.com</td>\n",
       "      <td>10/22/18</td>\n",
       "      <td>Arun Samudrala</td>\n",
       "      <td>231 PARK DR APT 27</td>\n",
       "      <td>NaN</td>\n",
       "      <td>...</td>\n",
       "      <td>Shipped</td>\n",
       "      <td>USPS(9405511699000309569980)</td>\n",
       "      <td>$190.00</td>\n",
       "      <td>$0.00</td>\n",
       "      <td>$0.00</td>\n",
       "      <td>$0.00</td>\n",
       "      <td>$0.00</td>\n",
       "      <td>$190.00</td>\n",
       "      <td>Arun</td>\n",
       "      <td>NaN</td>\n",
       "    </tr>\n",
       "    <tr>\n",
       "      <td>2</td>\n",
       "      <td>10/22/18</td>\n",
       "      <td>114-8237860-8184232</td>\n",
       "      <td>MasterCard - 8971</td>\n",
       "      <td>Amazon.com</td>\n",
       "      <td>NaN</td>\n",
       "      <td>arun06samudrala@gmail.com</td>\n",
       "      <td>10/23/18</td>\n",
       "      <td>Arun Samudrala</td>\n",
       "      <td>231 PARK DR APT 27</td>\n",
       "      <td>NaN</td>\n",
       "      <td>...</td>\n",
       "      <td>Shipped</td>\n",
       "      <td>UPS(1Z6W82570391223992)</td>\n",
       "      <td>$12.88</td>\n",
       "      <td>$5.45</td>\n",
       "      <td>$0.81</td>\n",
       "      <td>$5.45</td>\n",
       "      <td>$0.81</td>\n",
       "      <td>$13.69</td>\n",
       "      <td>Arun</td>\n",
       "      <td>NaN</td>\n",
       "    </tr>\n",
       "    <tr>\n",
       "      <td>3</td>\n",
       "      <td>10/22/18</td>\n",
       "      <td>114-8237860-8184232</td>\n",
       "      <td>MasterCard - 8971</td>\n",
       "      <td>Amazon.com</td>\n",
       "      <td>NaN</td>\n",
       "      <td>arun06samudrala@gmail.com</td>\n",
       "      <td>10/25/18</td>\n",
       "      <td>Arun Samudrala</td>\n",
       "      <td>231 PARK DR APT 27</td>\n",
       "      <td>NaN</td>\n",
       "      <td>...</td>\n",
       "      <td>Shipped</td>\n",
       "      <td>AMZN_US(TBA374940594000)</td>\n",
       "      <td>$31.99</td>\n",
       "      <td>$5.25</td>\n",
       "      <td>$0.00</td>\n",
       "      <td>$5.25</td>\n",
       "      <td>$0.00</td>\n",
       "      <td>$31.99</td>\n",
       "      <td>Arun</td>\n",
       "      <td>NaN</td>\n",
       "    </tr>\n",
       "    <tr>\n",
       "      <td>4</td>\n",
       "      <td>10/23/18</td>\n",
       "      <td>114-5465865-0867429</td>\n",
       "      <td>MasterCard - 8971</td>\n",
       "      <td>Amazon.com</td>\n",
       "      <td>NaN</td>\n",
       "      <td>arun06samudrala@gmail.com</td>\n",
       "      <td>10/27/18</td>\n",
       "      <td>Arun Samudrala</td>\n",
       "      <td>231 PARK DR APT 27</td>\n",
       "      <td>NaN</td>\n",
       "      <td>...</td>\n",
       "      <td>Shipped</td>\n",
       "      <td>USPS(9200190224058107403726)</td>\n",
       "      <td>$11.99</td>\n",
       "      <td>$0.00</td>\n",
       "      <td>$0.00</td>\n",
       "      <td>$0.00</td>\n",
       "      <td>$0.00</td>\n",
       "      <td>$11.99</td>\n",
       "      <td>Arun</td>\n",
       "      <td>NaN</td>\n",
       "    </tr>\n",
       "  </tbody>\n",
       "</table>\n",
       "<p>5 rows × 23 columns</p>\n",
       "</div>"
      ],
      "text/plain": [
       "  Order Date             Order ID Payment Instrument Type     Website  \\\n",
       "0   10/20/18  114-1507594-8884245       MasterCard - 8971  Amazon.com   \n",
       "1   10/20/18  114-6348616-9767454       MasterCard - 8971  Amazon.com   \n",
       "2   10/22/18  114-8237860-8184232       MasterCard - 8971  Amazon.com   \n",
       "3   10/22/18  114-8237860-8184232       MasterCard - 8971  Amazon.com   \n",
       "4   10/23/18  114-5465865-0867429       MasterCard - 8971  Amazon.com   \n",
       "\n",
       "   Purchase Order Number    Ordering Customer Email Shipment Date  \\\n",
       "0                    NaN  arun06samudrala@gmail.com      10/21/18   \n",
       "1                    NaN  arun06samudrala@gmail.com      10/22/18   \n",
       "2                    NaN  arun06samudrala@gmail.com      10/23/18   \n",
       "3                    NaN  arun06samudrala@gmail.com      10/25/18   \n",
       "4                    NaN  arun06samudrala@gmail.com      10/27/18   \n",
       "\n",
       "  Shipping Address Name Shipping Address Street 1  Shipping Address Street 2  \\\n",
       "0        Arun Samudrala        231 PARK DR APT 27                        NaN   \n",
       "1        Arun Samudrala        231 PARK DR APT 27                        NaN   \n",
       "2        Arun Samudrala        231 PARK DR APT 27                        NaN   \n",
       "3        Arun Samudrala        231 PARK DR APT 27                        NaN   \n",
       "4        Arun Samudrala        231 PARK DR APT 27                        NaN   \n",
       "\n",
       "   ... Order Status Carrier Name & Tracking Number Subtotal Shipping Charge  \\\n",
       "0  ...      Shipped       AMZN_US(TBA362516488000)  $159.95           $7.64   \n",
       "1  ...      Shipped   USPS(9405511699000309569980)  $190.00           $0.00   \n",
       "2  ...      Shipped        UPS(1Z6W82570391223992)   $12.88           $5.45   \n",
       "3  ...      Shipped       AMZN_US(TBA374940594000)   $31.99           $5.25   \n",
       "4  ...      Shipped   USPS(9200190224058107403726)   $11.99           $0.00   \n",
       "\n",
       "  Tax Before Promotions Total Promotions Tax Charged Total Charged Buyer Name  \\\n",
       "0                 $0.00            $7.64       $0.00       $159.95       Arun   \n",
       "1                 $0.00            $0.00       $0.00       $190.00       Arun   \n",
       "2                 $0.81            $5.45       $0.81        $13.69       Arun   \n",
       "3                 $0.00            $5.25       $0.00        $31.99       Arun   \n",
       "4                 $0.00            $0.00       $0.00        $11.99       Arun   \n",
       "\n",
       "  Group Name  \n",
       "0        NaN  \n",
       "1        NaN  \n",
       "2        NaN  \n",
       "3        NaN  \n",
       "4        NaN  \n",
       "\n",
       "[5 rows x 23 columns]"
      ]
     },
     "execution_count": 26,
     "metadata": {},
     "output_type": "execute_result"
    }
   ],
   "source": [
    "amazon.head()"
   ]
  },
  {
   "cell_type": "code",
   "execution_count": 27,
   "metadata": {},
   "outputs": [
    {
     "data": {
      "text/plain": [
       "(30, 23)"
      ]
     },
     "execution_count": 27,
     "metadata": {},
     "output_type": "execute_result"
    }
   ],
   "source": [
    "amazon.shape"
   ]
  },
  {
   "cell_type": "code",
   "execution_count": 28,
   "metadata": {},
   "outputs": [],
   "source": [
    "amazon = amazon.fillna(0)"
   ]
  },
  {
   "cell_type": "code",
   "execution_count": 29,
   "metadata": {},
   "outputs": [],
   "source": [
    "amazon['Total Charged'] = amazon['Total Charged'].str.replace('$','').astype(float)"
   ]
  },
  {
   "cell_type": "code",
   "execution_count": 30,
   "metadata": {},
   "outputs": [
    {
     "data": {
      "text/plain": [
       "1746.9199999999998"
      ]
     },
     "execution_count": 30,
     "metadata": {},
     "output_type": "execute_result"
    }
   ],
   "source": [
    "amazon['Total Charged'].sum()"
   ]
  },
  {
   "cell_type": "code",
   "execution_count": 31,
   "metadata": {},
   "outputs": [
    {
     "data": {
      "text/plain": [
       "58.23066666666668"
      ]
     },
     "execution_count": 31,
     "metadata": {},
     "output_type": "execute_result"
    }
   ],
   "source": [
    "amazon['Total Charged'].mean()"
   ]
  },
  {
   "cell_type": "code",
   "execution_count": 32,
   "metadata": {},
   "outputs": [
    {
     "data": {
      "text/plain": [
       "6.49"
      ]
     },
     "execution_count": 32,
     "metadata": {},
     "output_type": "execute_result"
    }
   ],
   "source": [
    "amazon['Total Charged'].min()"
   ]
  },
  {
   "cell_type": "code",
   "execution_count": 33,
   "metadata": {},
   "outputs": [
    {
     "data": {
      "text/plain": [
       "298.95"
      ]
     },
     "execution_count": 33,
     "metadata": {},
     "output_type": "execute_result"
    }
   ],
   "source": [
    "amazon['Total Charged'].max()"
   ]
  },
  {
   "cell_type": "code",
   "execution_count": 34,
   "metadata": {},
   "outputs": [],
   "source": [
    "amazon['Tax Charged'] = amazon['Tax Charged'].str.replace('$','').astype(float)"
   ]
  },
  {
   "cell_type": "code",
   "execution_count": 35,
   "metadata": {},
   "outputs": [
    {
     "data": {
      "text/plain": [
       "14.0"
      ]
     },
     "execution_count": 35,
     "metadata": {},
     "output_type": "execute_result"
    }
   ],
   "source": [
    "amazon['Tax Charged'].sum()"
   ]
  },
  {
   "cell_type": "code",
   "execution_count": 36,
   "metadata": {},
   "outputs": [
    {
     "data": {
      "text/plain": [
       "0.8014104824491105"
      ]
     },
     "execution_count": 36,
     "metadata": {},
     "output_type": "execute_result"
    }
   ],
   "source": [
    "(amazon['Tax Charged'].sum()/amazon['Total Charged'].sum())*100"
   ]
  },
  {
   "cell_type": "code",
   "execution_count": 37,
   "metadata": {},
   "outputs": [],
   "source": [
    "amazon['Order Date'] = pd.to_datetime(amazon['Order Date'])"
   ]
  },
  {
   "cell_type": "code",
   "execution_count": 39,
   "metadata": {},
   "outputs": [
    {
     "data": {
      "text/plain": [
       "<matplotlib.axes._subplots.AxesSubplot at 0x7fb79b4a7390>"
      ]
     },
     "execution_count": 39,
     "metadata": {},
     "output_type": "execute_result"
    },
    {
     "data": {
      "image/png": "[encoded data removed]",
      "text/plain": [
       "<Figure size 1440x720 with 1 Axes>"
      ]
     },
     "metadata": {
      "needs_background": "light"
     },
     "output_type": "display_data"
    }
   ],
   "source": [
    "amazon.plot.bar(x = 'Order Date', y = 'Total Charged', figsize=(20,10))"
   ]
  },
  {
   "cell_type": "code",
   "execution_count": 40,
   "metadata": {},
   "outputs": [],
   "source": [
    "daily_orders = amazon.groupby('Order Date').sum()['Total Charged']"
   ]
  },
  {
   "cell_type": "code",
   "execution_count": 41,
   "metadata": {},
   "outputs": [
    {
     "data": {
      "text/plain": [
       "Order Date\n",
       "2018-10-20    349.95\n",
       "2018-10-22     45.68\n",
       "2018-10-23     26.98\n",
       "2018-10-26    190.00\n",
       "2018-10-27      9.97\n",
       "Name: Total Charged, dtype: float64"
      ]
     },
     "execution_count": 41,
     "metadata": {},
     "output_type": "execute_result"
    }
   ],
   "source": [
    "daily_orders.head(5)"
   ]
  },
  {
   "cell_type": "code",
   "execution_count": 45,
   "metadata": {},
   "outputs": [
    {
     "data": {
      "text/plain": [
       "<matplotlib.axes._subplots.AxesSubplot at 0x7fb79d1db7d0>"
      ]
     },
     "execution_count": 45,
     "metadata": {},
     "output_type": "execute_result"
    },
    {
     "data": {
      "image/png": "[encoded data removed]",
      "text/plain": [
       "<Figure size 1440x720 with 1 Axes>"
      ]
     },
     "metadata": {
      "needs_background": "light"
     },
     "output_type": "display_data"
    }
   ],
   "source": [
    "daily_orders.plot.bar(figsize=(20,10),color = '#FF0000')"
   ]
  },
  {
   "cell_type": "code",
   "execution_count": null,
   "metadata": {},
   "outputs": [],
   "source": []
  }
 ],
 "metadata": {
  "kernelspec": {
   "display_name": "Python 3",
   "language": "python",
   "name": "python3"
  },
  "language_info": {
   "codemirror_mode": {
    "name": "ipython",
    "version": 3
   },
   "file_extension": ".py",
   "mimetype": "text/x-python",
   "name": "python",
   "nbconvert_exporter": "python",
   "pygments_lexer": "ipython3",
   "version": "3.7.4"
  }
 },
 "nbformat": 4,
 "nbformat_minor": 2
}
